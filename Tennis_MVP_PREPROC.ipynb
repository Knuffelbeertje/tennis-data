{
    "cells": [
        {
            "cell_type": "code",
            "execution_count": null,
            "source": [
                "import numpy as np\n",
                "import pandas as pd\n",
                "import os"
            ],
            "outputs": [],
            "metadata": {}
        },
        {
            "cell_type": "code",
            "execution_count": null,
            "source": [
                "os.getcwd()\n",
                "Tennis_df = pd.read_csv('tennis-master-file.csv', sep = ';')"
            ],
            "outputs": [],
            "metadata": {}
        },
        {
            "cell_type": "markdown",
            "source": [
                "# Preprocessing"
            ],
            "metadata": {}
        },
        {
            "cell_type": "code",
            "execution_count": null,
            "source": [
                "#For simplicity's sake, all columns names are turned to uppercase.\n",
                "Tennis_df.columns = [x.upper() for x in Tennis_df.columns]\n",
                "\n",
                "#Having the columns names stored allow us to take a quick look at all our available features easily.\n",
                "Tennis_columns = Tennis_df.columns\n",
                "\n",
                "    \n",
                "\n",
                "#Tournament date is currently an integer but can be turned to an actual date for time series analysis using datetime.\n",
                "Tennis_df.TOURNEY_DATE = pd.to_datetime(Tennis_df['TOURNEY_DATE'], format='%Y%m%d')\n",
                "\n",
                "#Replacing the words player with P to use less space when looking at the df (same with tourney and T)\n",
                "##NOTE : FIND WAY TO DO BOTH MANIPULATIONS IN ONE LINE\n",
                "Tennis_df.columns = Tennis_df.columns.str.replace('PLAYER', 'P')\n",
                "Tennis_df.columns = Tennis_df.columns.str.replace('TOURNEY', 'T')\n"
            ],
            "outputs": [],
            "metadata": {}
        },
        {
            "cell_type": "code",
            "execution_count": null,
            "source": [
                "features_dtypes = Tennis_df.dtypes"
            ],
            "outputs": [],
            "metadata": {}
        },
        {
            "cell_type": "code",
            "execution_count": null,
            "source": [
                "#Rounding up the age of all players, not necessary to keep it so granular imo\n",
                "#str.replace is used so that python can interpret the column values as flaots. Otherwise it sees 28,4 as two entities for instance\n"
            ],
            "outputs": [],
            "metadata": {}
        },
        {
            "cell_type": "code",
            "execution_count": null,
            "source": [
                "Tennis_df['P1_AGE'] = Tennis_df['P1_AGE'].str.replace(',', '.').astype('float', errors = 'ignore').dropna()"
            ],
            "outputs": [],
            "metadata": {}
        },
        {
            "cell_type": "code",
            "execution_count": null,
            "source": [
                "basicTennis_df= Tennis_df[['P1_WINS','SCORE', 'MINUTES','T_NAME','SURFACE', 'P1_NAME', 'P2_NAME','P1_RANK','P2_RANK','T_DATE',\"P1_AGE\",\"P2_AGE\"]]"
            ],
            "outputs": [],
            "metadata": {}
        },
        {
            "cell_type": "code",
            "execution_count": null,
            "source": [
                "basicTennis_df.dtypes"
            ],
            "outputs": [],
            "metadata": {}
        },
        {
            "cell_type": "markdown",
            "source": [
                "We observe that the data types of most columns is \"object\". In reality, most columns are either of type string or numerical. We can now work on changing that, starting with the age of the players which will be turned into an int."
            ],
            "metadata": {}
        },
        {
            "cell_type": "code",
            "execution_count": null,
            "source": [
                "#How to apply a transformation to multiple columns at the same time? unsuccessful attempt below\n",
                "#The aimed result is in the next box.\n",
                "#basicTennis_df['P1_AGE','P2_AGE'] = basicTennis_df['P1_AGE','P2_AGE'].apply(drop(basicTennis_df[['P1_AGE','P2_AGE'] =='#VALEUR!']))"
            ],
            "outputs": [],
            "metadata": {}
        },
        {
            "cell_type": "code",
            "execution_count": null,
            "source": [
                "#For both players 1 and 2, there is one row with a missing age so we remove that match from the database.\n",
                "basicTennis_df.drop(basicTennis_df.loc[basicTennis_df['P1_AGE'] == \"#VALEUR!\"].index, inplace=True)\n",
                "basicTennis_df.drop(basicTennis_df.loc[basicTennis_df['P2_AGE'] == \"#VALEUR!\"].index, inplace=True)"
            ],
            "outputs": [],
            "metadata": {}
        },
        {
            "cell_type": "code",
            "execution_count": null,
            "source": [
                "#the comma is interpreted as a separator, we need to change it to a dot and then interpret our values as floats\n",
                "basicTennis_df['P1_AGE'] = basicTennis_df['P1_AGE'].str.replace(',', '.').astype('float')\n",
                "basicTennis_df['P2_AGE'] = basicTennis_df['P2_AGE'].str.replace(',', '.').astype('float')"
            ],
            "outputs": [],
            "metadata": {}
        },
        {
            "cell_type": "code",
            "execution_count": null,
            "source": [
                "basicTennis_df['P1_AGE']=basicTennis_df['P1_AGE'].astype('int')\n",
                "basicTennis_df['P2_AGE']=basicTennis_df['P2_AGE'].astype('int')"
            ],
            "outputs": [],
            "metadata": {}
        },
        {
            "cell_type": "markdown",
            "source": [
                "The name of the players being also stored as objects, we turn them into strings.\n",
                "Same for the surfaces and tournaments' names."
            ],
            "metadata": {}
        },
        {
            "cell_type": "code",
            "execution_count": null,
            "source": [
                "basicTennis_df['P1_NAME']=basicTennis_df['P1_NAME'].astype('string')\n",
                "basicTennis_df['P2_NAME']=basicTennis_df['P2_NAME'].astype('string')\n",
                "\n",
                "basicTennis_df['T_NAME']=basicTennis_df['T_NAME'].astype('string')\n",
                "basicTennis_df['SURFACE']=basicTennis_df['SURFACE'].astype('string')"
            ],
            "outputs": [],
            "metadata": {}
        },
        {
            "cell_type": "code",
            "execution_count": null,
            "source": [
                "basicTennis_df.dtypes"
            ],
            "outputs": [],
            "metadata": {}
        },
        {
            "cell_type": "markdown",
            "source": [
                "The only remaining feature that is of type object is the score. It will be removed for now so that a MVP (minimum viable product might be achieved and will be dealt with at later times."
            ],
            "metadata": {}
        },
        {
            "cell_type": "code",
            "execution_count": null,
            "source": [
                "basicTennis_df.drop(labels=\"SCORE\",axis=1 , inplace=True)"
            ],
            "outputs": [],
            "metadata": {}
        },
        {
            "cell_type": "code",
            "execution_count": null,
            "source": [
                "basicTennis_df.columns"
            ],
            "outputs": [],
            "metadata": {}
        },
        {
            "cell_type": "markdown",
            "source": [
                "A problem arising is the NaN values from the feature \"MINUTES\", we remove the sample where that feature is not available. (we could input some value later on and see if it improves the results (such as median, average, etc.))"
            ],
            "metadata": {}
        },
        {
            "cell_type": "code",
            "execution_count": null,
            "source": [
                "basicTennis_df.dropna(axis = 0, inplace=True)"
            ],
            "outputs": [],
            "metadata": {}
        },
        {
            "cell_type": "markdown",
            "source": [
                "We would like to know the number of unique values for each columns. Then, we can look more specifically at some features."
            ],
            "metadata": {}
        },
        {
            "cell_type": "code",
            "execution_count": null,
            "source": [
                "basicTennis_df.nunique()"
            ],
            "outputs": [],
            "metadata": {}
        },
        {
            "cell_type": "code",
            "execution_count": null,
            "source": [
                "basicTennis_df[\"SURFACE\"].value_counts()"
            ],
            "outputs": [],
            "metadata": {}
        },
        {
            "cell_type": "markdown",
            "source": [
                "For instance, SURFACE has 4 different values but one of those values, 'Carpet', only has 85 counts for a dataset of 30000 data points.\n",
                "Furthermore, personal domain knowledge allows us to say that carpet matches are negligible in general in tennis and we can therefore discard them"
            ],
            "metadata": {}
        },
        {
            "cell_type": "code",
            "execution_count": null,
            "source": [
                "basicTennis_df.drop(basicTennis_df.index[basicTennis_df['SURFACE'] == 'Carpet'], inplace = True)"
            ],
            "outputs": [],
            "metadata": {}
        },
        {
            "cell_type": "markdown",
            "source": [
                "# End of the Preprocessing section"
            ],
            "metadata": {}
        },
        {
            "cell_type": "markdown",
            "source": [
                "# Exporting the pre-processed data in CSV"
            ],
            "metadata": {}
        },
        {
            "cell_type": "code",
            "execution_count": null,
            "source": [
                "basicTennis_df.to_csv('Tennis_MVP.csv', index=False)"
            ],
            "outputs": [],
            "metadata": {}
        }
    ],
    "metadata": {
        "orig_nbformat": 4,
        "language_info": {
            "name": "python",
            "version": "3.7.10",
            "mimetype": "text/x-python",
            "codemirror_mode": {
                "name": "ipython",
                "version": 3
            },
            "pygments_lexer": "ipython3",
            "nbconvert_exporter": "python",
            "file_extension": ".py"
        },
        "kernelspec": {
            "name": "python3",
            "display_name": "Python 3.7.10 64-bit ('myenv': conda)"
        },
        "interpreter": {
            "hash": "d69f459d14f513e6f4f6bb67bae47f60361c97cd33558bf1f0f405da0ae447f0"
        }
    },
    "nbformat": 4,
    "nbformat_minor": 2
}