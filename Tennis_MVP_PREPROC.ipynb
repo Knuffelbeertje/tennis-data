{
    "cells": [
        {
            "cell_type": "code",
            "execution_count": 1,
            "source": [
                "import numpy as np\n",
                "import pandas as pd\n",
                "import os"
            ],
            "outputs": [],
            "metadata": {}
        },
        {
            "cell_type": "code",
            "execution_count": 2,
            "source": [
                "os.getcwd()\n",
                "Tennis_df = pd.read_csv('tennis-master-file.csv', sep = ';')"
            ],
            "outputs": [
                {
                    "output_type": "stream",
                    "name": "stderr",
                    "text": [
                        "/Users/kogimandias/opt/anaconda3/envs/myenv/lib/python3.7/site-packages/IPython/core/interactiveshell.py:3166: DtypeWarning: Columns (97,98,99,102,103,104) have mixed types.Specify dtype option on import or set low_memory=False.\n",
                        "  interactivity=interactivity, compiler=compiler, result=result)\n"
                    ]
                }
            ],
            "metadata": {}
        },
        {
            "cell_type": "markdown",
            "source": [
                "# Preprocessing"
            ],
            "metadata": {}
        },
        {
            "cell_type": "code",
            "execution_count": 3,
            "source": [
                "#For simplicity's sake, all columns names are turned to uppercase.\n",
                "Tennis_df.columns = [x.upper() for x in Tennis_df.columns]\n",
                "\n",
                "#Having the columns names stored allow us to take a quick look at all our available features easily.\n",
                "Tennis_columns = Tennis_df.columns\n",
                "\n",
                "    \n",
                "\n",
                "#Tournament date is currently an integer but can be turned to an actual date for time series analysis using datetime.\n",
                "Tennis_df.TOURNEY_DATE = pd.to_datetime(Tennis_df['TOURNEY_DATE'], format='%Y%m%d')\n",
                "\n",
                "#Replacing the words player with P to use less space when looking at the df (same with tourney and T)\n",
                "##NOTE : FIND WAY TO DO BOTH MANIPULATIONS IN ONE LINE\n",
                "Tennis_df.columns = Tennis_df.columns.str.replace('PLAYER', 'P')\n",
                "Tennis_df.columns = Tennis_df.columns.str.replace('TOURNEY', 'T')\n"
            ],
            "outputs": [],
            "metadata": {}
        },
        {
            "cell_type": "code",
            "execution_count": 4,
            "source": [
                "features_dtypes = Tennis_df.dtypes"
            ],
            "outputs": [],
            "metadata": {}
        },
        {
            "cell_type": "code",
            "execution_count": 5,
            "source": [
                "#Rounding up the age of all players, not necessary to keep it so granular imo\n",
                "#str.replace is used so that python can interpret the column values as flaots. Otherwise it sees 28,4 as two entities for instance\n"
            ],
            "outputs": [],
            "metadata": {}
        },
        {
            "cell_type": "code",
            "execution_count": 6,
            "source": [
                "Tennis_df['P1_AGE'] = Tennis_df['P1_AGE'].str.replace(',', '.').astype('float', errors = 'ignore').dropna()"
            ],
            "outputs": [],
            "metadata": {}
        },
        {
            "cell_type": "code",
            "execution_count": 7,
            "source": [
                "basicTennis_df= Tennis_df[['P1_WINS','SCORE', 'MINUTES','T_NAME','SURFACE', 'P1_NAME', 'P2_NAME','P1_RANK','P2_RANK','T_DATE',\"P1_AGE\",\"P2_AGE\"]]"
            ],
            "outputs": [],
            "metadata": {}
        },
        {
            "cell_type": "code",
            "execution_count": 8,
            "source": [
                "basicTennis_df.dtypes"
            ],
            "outputs": [
                {
                    "output_type": "execute_result",
                    "data": {
                        "text/plain": [
                            "P1_WINS             int64\n",
                            "SCORE              object\n",
                            "MINUTES           float64\n",
                            "T_NAME             object\n",
                            "SURFACE            object\n",
                            "P1_NAME            object\n",
                            "P2_NAME            object\n",
                            "P1_RANK             int64\n",
                            "P2_RANK             int64\n",
                            "T_DATE     datetime64[ns]\n",
                            "P1_AGE             object\n",
                            "P2_AGE             object\n",
                            "dtype: object"
                        ]
                    },
                    "metadata": {},
                    "execution_count": 8
                }
            ],
            "metadata": {}
        },
        {
            "cell_type": "markdown",
            "source": [
                "We observe that the data types of most columns is \"object\". In reality, most columns are either of type string or numerical. We can now work on changing that, starting with the age of the players which will be turned into an int."
            ],
            "metadata": {}
        },
        {
            "cell_type": "code",
            "execution_count": 9,
            "source": [
                "#How to apply a transformation to multiple columns at the same time? unsuccessful attempt below\n",
                "#The aimed result is in the next box.\n",
                "#basicTennis_df['P1_AGE','P2_AGE'] = basicTennis_df['P1_AGE','P2_AGE'].apply(drop(basicTennis_df[['P1_AGE','P2_AGE'] =='#VALEUR!']))"
            ],
            "outputs": [],
            "metadata": {}
        },
        {
            "cell_type": "code",
            "execution_count": 10,
            "source": [
                "#For both players 1 and 2, there is one row with a missing age so we remove that match from the database.\n",
                "basicTennis_df.drop(basicTennis_df.loc[basicTennis_df['P1_AGE'] == \"#VALEUR!\"].index, inplace=True)\n",
                "basicTennis_df.drop(basicTennis_df.loc[basicTennis_df['P2_AGE'] == \"#VALEUR!\"].index, inplace=True)"
            ],
            "outputs": [
                {
                    "output_type": "stream",
                    "name": "stderr",
                    "text": [
                        "/Users/kogimandias/opt/anaconda3/envs/myenv/lib/python3.7/site-packages/pandas/core/frame.py:4315: SettingWithCopyWarning: \n",
                        "A value is trying to be set on a copy of a slice from a DataFrame\n",
                        "\n",
                        "See the caveats in the documentation: https://pandas.pydata.org/pandas-docs/stable/user_guide/indexing.html#returning-a-view-versus-a-copy\n",
                        "  errors=errors,\n"
                    ]
                }
            ],
            "metadata": {}
        },
        {
            "cell_type": "code",
            "execution_count": 11,
            "source": [
                "#the comma is interpreted as a separator, we need to change it to a dot and then interpret our values as floats\n",
                "basicTennis_df['P1_AGE'] = basicTennis_df['P1_AGE'].str.replace(',', '.').astype('float')\n",
                "basicTennis_df['P2_AGE'] = basicTennis_df['P2_AGE'].str.replace(',', '.').astype('float')"
            ],
            "outputs": [
                {
                    "output_type": "stream",
                    "name": "stderr",
                    "text": [
                        "/Users/kogimandias/opt/anaconda3/envs/myenv/lib/python3.7/site-packages/ipykernel_launcher.py:2: SettingWithCopyWarning: \n",
                        "A value is trying to be set on a copy of a slice from a DataFrame.\n",
                        "Try using .loc[row_indexer,col_indexer] = value instead\n",
                        "\n",
                        "See the caveats in the documentation: https://pandas.pydata.org/pandas-docs/stable/user_guide/indexing.html#returning-a-view-versus-a-copy\n",
                        "  \n",
                        "/Users/kogimandias/opt/anaconda3/envs/myenv/lib/python3.7/site-packages/ipykernel_launcher.py:3: SettingWithCopyWarning: \n",
                        "A value is trying to be set on a copy of a slice from a DataFrame.\n",
                        "Try using .loc[row_indexer,col_indexer] = value instead\n",
                        "\n",
                        "See the caveats in the documentation: https://pandas.pydata.org/pandas-docs/stable/user_guide/indexing.html#returning-a-view-versus-a-copy\n",
                        "  This is separate from the ipykernel package so we can avoid doing imports until\n"
                    ]
                }
            ],
            "metadata": {}
        },
        {
            "cell_type": "code",
            "execution_count": 12,
            "source": [
                "basicTennis_df['P1_AGE']=basicTennis_df['P1_AGE'].astype('int')\n",
                "basicTennis_df['P2_AGE']=basicTennis_df['P2_AGE'].astype('int')"
            ],
            "outputs": [
                {
                    "output_type": "stream",
                    "name": "stderr",
                    "text": [
                        "/Users/kogimandias/opt/anaconda3/envs/myenv/lib/python3.7/site-packages/ipykernel_launcher.py:1: SettingWithCopyWarning: \n",
                        "A value is trying to be set on a copy of a slice from a DataFrame.\n",
                        "Try using .loc[row_indexer,col_indexer] = value instead\n",
                        "\n",
                        "See the caveats in the documentation: https://pandas.pydata.org/pandas-docs/stable/user_guide/indexing.html#returning-a-view-versus-a-copy\n",
                        "  \"\"\"Entry point for launching an IPython kernel.\n",
                        "/Users/kogimandias/opt/anaconda3/envs/myenv/lib/python3.7/site-packages/ipykernel_launcher.py:2: SettingWithCopyWarning: \n",
                        "A value is trying to be set on a copy of a slice from a DataFrame.\n",
                        "Try using .loc[row_indexer,col_indexer] = value instead\n",
                        "\n",
                        "See the caveats in the documentation: https://pandas.pydata.org/pandas-docs/stable/user_guide/indexing.html#returning-a-view-versus-a-copy\n",
                        "  \n"
                    ]
                }
            ],
            "metadata": {}
        },
        {
            "cell_type": "markdown",
            "source": [
                "The name of the players being also stored as objects, we turn them into strings.\n",
                "Same for the surfaces and tournaments' names."
            ],
            "metadata": {}
        },
        {
            "cell_type": "code",
            "execution_count": 13,
            "source": [
                "basicTennis_df['P1_NAME']=basicTennis_df['P1_NAME'].astype('string')\n",
                "basicTennis_df['P2_NAME']=basicTennis_df['P2_NAME'].astype('string')\n",
                "\n",
                "basicTennis_df['T_NAME']=basicTennis_df['T_NAME'].astype('string')\n",
                "basicTennis_df['SURFACE']=basicTennis_df['SURFACE'].astype('string')"
            ],
            "outputs": [
                {
                    "output_type": "stream",
                    "name": "stderr",
                    "text": [
                        "/Users/kogimandias/opt/anaconda3/envs/myenv/lib/python3.7/site-packages/ipykernel_launcher.py:1: SettingWithCopyWarning: \n",
                        "A value is trying to be set on a copy of a slice from a DataFrame.\n",
                        "Try using .loc[row_indexer,col_indexer] = value instead\n",
                        "\n",
                        "See the caveats in the documentation: https://pandas.pydata.org/pandas-docs/stable/user_guide/indexing.html#returning-a-view-versus-a-copy\n",
                        "  \"\"\"Entry point for launching an IPython kernel.\n",
                        "/Users/kogimandias/opt/anaconda3/envs/myenv/lib/python3.7/site-packages/ipykernel_launcher.py:2: SettingWithCopyWarning: \n",
                        "A value is trying to be set on a copy of a slice from a DataFrame.\n",
                        "Try using .loc[row_indexer,col_indexer] = value instead\n",
                        "\n",
                        "See the caveats in the documentation: https://pandas.pydata.org/pandas-docs/stable/user_guide/indexing.html#returning-a-view-versus-a-copy\n",
                        "  \n",
                        "/Users/kogimandias/opt/anaconda3/envs/myenv/lib/python3.7/site-packages/ipykernel_launcher.py:4: SettingWithCopyWarning: \n",
                        "A value is trying to be set on a copy of a slice from a DataFrame.\n",
                        "Try using .loc[row_indexer,col_indexer] = value instead\n",
                        "\n",
                        "See the caveats in the documentation: https://pandas.pydata.org/pandas-docs/stable/user_guide/indexing.html#returning-a-view-versus-a-copy\n",
                        "  after removing the cwd from sys.path.\n",
                        "/Users/kogimandias/opt/anaconda3/envs/myenv/lib/python3.7/site-packages/ipykernel_launcher.py:5: SettingWithCopyWarning: \n",
                        "A value is trying to be set on a copy of a slice from a DataFrame.\n",
                        "Try using .loc[row_indexer,col_indexer] = value instead\n",
                        "\n",
                        "See the caveats in the documentation: https://pandas.pydata.org/pandas-docs/stable/user_guide/indexing.html#returning-a-view-versus-a-copy\n",
                        "  \"\"\"\n"
                    ]
                }
            ],
            "metadata": {}
        },
        {
            "cell_type": "code",
            "execution_count": 14,
            "source": [
                "basicTennis_df.dtypes"
            ],
            "outputs": [
                {
                    "output_type": "execute_result",
                    "data": {
                        "text/plain": [
                            "P1_WINS             int64\n",
                            "SCORE              object\n",
                            "MINUTES           float64\n",
                            "T_NAME             string\n",
                            "SURFACE            string\n",
                            "P1_NAME            string\n",
                            "P2_NAME            string\n",
                            "P1_RANK             int64\n",
                            "P2_RANK             int64\n",
                            "T_DATE     datetime64[ns]\n",
                            "P1_AGE              int64\n",
                            "P2_AGE              int64\n",
                            "dtype: object"
                        ]
                    },
                    "metadata": {},
                    "execution_count": 14
                }
            ],
            "metadata": {}
        },
        {
            "cell_type": "markdown",
            "source": [
                "The only remaining feature that is of type object is the score. It will be removed for now so that a MVP (minimum viable product might be achieved and will be dealt with at later times."
            ],
            "metadata": {}
        },
        {
            "cell_type": "code",
            "execution_count": 15,
            "source": [
                "basicTennis_df.drop(labels=\"SCORE\",axis=1 , inplace=True)"
            ],
            "outputs": [],
            "metadata": {}
        },
        {
            "cell_type": "code",
            "execution_count": 16,
            "source": [
                "basicTennis_df.columns"
            ],
            "outputs": [
                {
                    "output_type": "execute_result",
                    "data": {
                        "text/plain": [
                            "Index(['P1_WINS', 'MINUTES', 'T_NAME', 'SURFACE', 'P1_NAME', 'P2_NAME',\n",
                            "       'P1_RANK', 'P2_RANK', 'T_DATE', 'P1_AGE', 'P2_AGE'],\n",
                            "      dtype='object')"
                        ]
                    },
                    "metadata": {},
                    "execution_count": 16
                }
            ],
            "metadata": {}
        },
        {
            "cell_type": "markdown",
            "source": [
                "We would like to know the number of unique values for each columns. Then, we can look more specifically at some features."
            ],
            "metadata": {}
        },
        {
            "cell_type": "code",
            "execution_count": 17,
            "source": [
                "basicTennis_df.nunique()"
            ],
            "outputs": [
                {
                    "output_type": "execute_result",
                    "data": {
                        "text/plain": [
                            "P1_WINS      2\n",
                            "MINUTES    274\n",
                            "T_NAME     823\n",
                            "SURFACE      4\n",
                            "P1_NAME    955\n",
                            "P2_NAME    949\n",
                            "P1_RANK    928\n",
                            "P2_RANK    951\n",
                            "T_DATE     495\n",
                            "P1_AGE      26\n",
                            "P2_AGE      27\n",
                            "dtype: int64"
                        ]
                    },
                    "metadata": {},
                    "execution_count": 17
                }
            ],
            "metadata": {}
        },
        {
            "cell_type": "code",
            "execution_count": 18,
            "source": [
                "basicTennis_df[\"SURFACE\"].value_counts()"
            ],
            "outputs": [
                {
                    "output_type": "execute_result",
                    "data": {
                        "text/plain": [
                            "Hard      17367\n",
                            "Clay       9661\n",
                            "Grass      3381\n",
                            "Carpet       85\n",
                            "Name: SURFACE, dtype: Int64"
                        ]
                    },
                    "metadata": {},
                    "execution_count": 18
                }
            ],
            "metadata": {}
        },
        {
            "cell_type": "markdown",
            "source": [
                "For instance, SURFACE has 4 different values but one of those values, 'Carpet', only has 85 counts for a dataset of 30000 data points.\n",
                "Furthermore, personal domain knowledge allows us to say that carpet matches are negligible in general in tennis and we can therefore discard them"
            ],
            "metadata": {}
        },
        {
            "cell_type": "code",
            "execution_count": 19,
            "source": [
                "basicTennis_df.drop(basicTennis_df.index[basicTennis_df['SURFACE'] == 'Carpet'], inplace = True)"
            ],
            "outputs": [],
            "metadata": {}
        },
        {
            "cell_type": "markdown",
            "source": [
                "# End of the Preprocessing section"
            ],
            "metadata": {}
        },
        {
            "cell_type": "markdown",
            "source": [
                "# Exporting the pre-processed data in CSV"
            ],
            "metadata": {}
        },
        {
            "cell_type": "code",
            "execution_count": 20,
            "source": [
                "basicTennis_df.to_csv('Tennis_MVP.csv', index=False)"
            ],
            "outputs": [],
            "metadata": {}
        }
    ],
    "metadata": {
        "orig_nbformat": 4,
        "language_info": {
            "name": "python",
            "version": "3.7.10",
            "mimetype": "text/x-python",
            "codemirror_mode": {
                "name": "ipython",
                "version": 3
            },
            "pygments_lexer": "ipython3",
            "nbconvert_exporter": "python",
            "file_extension": ".py"
        },
        "kernelspec": {
            "name": "python3",
            "display_name": "Python 3.7.10 64-bit ('myenv': conda)"
        },
        "interpreter": {
            "hash": "d69f459d14f513e6f4f6bb67bae47f60361c97cd33558bf1f0f405da0ae447f0"
        }
    },
    "nbformat": 4,
    "nbformat_minor": 2
}