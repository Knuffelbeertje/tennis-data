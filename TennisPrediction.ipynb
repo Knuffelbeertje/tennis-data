{
    "cells": [
        {
            "cell_type": "code",
            "execution_count": 1,
            "source": [
                "import numpy as np\n",
                "import pandas as pd\n",
                "import os"
            ],
            "outputs": [],
            "metadata": {}
        },
        {
            "cell_type": "code",
            "execution_count": 2,
            "source": [
                "os.getcwd()\n",
                "dataTennis_df = pd.read_csv('tennis-master-file.csv', sep = ';')"
            ],
            "outputs": [
                {
                    "output_type": "stream",
                    "name": "stderr",
                    "text": [
                        "/Users/kogimandias/opt/anaconda3/envs/myenv/lib/python3.7/site-packages/IPython/core/interactiveshell.py:3166: DtypeWarning: Columns (97,98,99,102,103,104) have mixed types.Specify dtype option on import or set low_memory=False.\n",
                        "  interactivity=interactivity, compiler=compiler, result=result)\n"
                    ]
                }
            ],
            "metadata": {}
        },
        {
            "cell_type": "code",
            "execution_count": 13,
            "source": [
                "#For simplicity's sake, all columns names are turned to uppercase.\n",
                "dataTennis_df.columns = [x.upper() for x in dataTennis_df.columns]\n",
                "\n",
                "#Having the columns names stored allow us to take a quick look at all our available features easily.\n",
                "dataTennis_columns = dataTennis_df.columns\n",
                "\n",
                "    \n",
                "\n",
                "#Tournament date is currently an integer but can be turned to an actual date for time series analysis using datetime.\n",
                "dataTennis_df.TOURNEY_DATE = pd.to_datetime(dataTennis_df['TOURNEY_DATE'], format='%Y%m%d')\n",
                "\n",
                "#Replacing the words player with P to use less space when looking at the df (same with tourney and T)\n",
                "##NOTE : FIND WAY TO DO BOTH MANIPULATIONS IN ONE LINE\n",
                "dataTennis_df.columns = dataTennis_df.columns.str.replace('PLAYER', 'P')\n",
                "dataTennis_df.columns = dataTennis_df.columns.str.replace('TOURNEY', 'T')\n"
            ],
            "outputs": [],
            "metadata": {}
        },
        {
            "cell_type": "code",
            "execution_count": 15,
            "source": [
                "basicDataTennis_df= dataTennis_df[['P1_WINS','SCORE','T_NAME','SURFACE', 'P1_NAME', 'P2_NAME','T_DATE',\"P1_HAND\",\n",
                "\"P2_HAND\",\"P1_HT\",\"P2_HT\",\"P1_AGE\",\"P2_AGE\", 'MINUTES']]"
            ],
            "outputs": [],
            "metadata": {}
        },
        {
            "cell_type": "code",
            "execution_count": null,
            "source": [],
            "outputs": [],
            "metadata": {}
        }
    ],
    "metadata": {
        "orig_nbformat": 4,
        "language_info": {
            "name": "python",
            "version": "3.7.10",
            "mimetype": "text/x-python",
            "codemirror_mode": {
                "name": "ipython",
                "version": 3
            },
            "pygments_lexer": "ipython3",
            "nbconvert_exporter": "python",
            "file_extension": ".py"
        },
        "kernelspec": {
            "name": "python3",
            "display_name": "Python 3.7.10 64-bit ('myenv': conda)"
        },
        "interpreter": {
            "hash": "d69f459d14f513e6f4f6bb67bae47f60361c97cd33558bf1f0f405da0ae447f0"
        }
    },
    "nbformat": 4,
    "nbformat_minor": 2
}